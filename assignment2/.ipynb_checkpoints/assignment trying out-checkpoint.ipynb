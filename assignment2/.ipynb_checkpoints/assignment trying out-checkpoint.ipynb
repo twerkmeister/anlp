{
 "metadata": {
  "name": "",
  "signature": "sha256:85a20988f607f30210a7264115139d7ef79bfa7ca634fbe7de2fa69ea9e9d3cd"
 },
 "nbformat": 3,
 "nbformat_minor": 0,
 "worksheets": [
  {
   "cells": [
    {
     "cell_type": "code",
     "collapsed": false,
     "input": [
      "import nltk\n",
      "import numpy as np\n",
      "import matplotlib.pyplot as plt"
     ],
     "language": "python",
     "metadata": {},
     "outputs": [],
     "prompt_number": 1
    },
    {
     "cell_type": "code",
     "collapsed": false,
     "input": [],
     "language": "python",
     "metadata": {},
     "outputs": []
    }
   ],
   "metadata": {}
  }
 ]
}